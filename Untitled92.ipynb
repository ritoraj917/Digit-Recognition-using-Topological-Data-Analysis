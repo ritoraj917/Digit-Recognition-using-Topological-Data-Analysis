{
 "cells": [
  {
   "cell_type": "code",
   "execution_count": 44,
   "metadata": {},
   "outputs": [],
   "source": [
    "from PIL import Image, ImageDraw\n",
    "import numpy as np\n",
    "from math import sqrt\n",
    "\n",
    "# Load image:\n",
    "input_image = Image.open(\"crop8.png\")\n",
    "input_pixels = input_image.load()\n",
    "width, height = input_image.width, input_image.height\n",
    "\n",
    "# Create output image\n",
    "output_image = Image.new(\"RGB\", input_image.size)\n",
    "draw = ImageDraw.Draw(output_image)\n",
    "\n",
    "# Convert to grayscale\n",
    "intensity = np.zeros((width, height))\n",
    "for x in range(width):\n",
    "    for y in range(height):\n",
    "        intensity[x, y] = sum(input_pixels[x, y]) / 3\n",
    "\n",
    "# Compute convolution between intensity and kernels\n",
    "for x in range(1, input_image.width - 1):\n",
    "    for y in range(1, input_image.height - 1):\n",
    "        magx = intensity[x + 1, y] - intensity[x - 1, y]\n",
    "        magy = intensity[x, y + 1] - intensity[x, y - 1]\n",
    "\n",
    "        # Draw in black and white the magnitude\n",
    "        color = int(sqrt(magx**2 + magy**2))\n",
    "        draw.point((x, y), (color, color, color))\n",
    "    \n",
    "output_image.save(\"edge8.png\")"
   ]
  },
  {
   "cell_type": "code",
   "execution_count": 36,
   "metadata": {},
   "outputs": [],
   "source": [
    "from PIL import Image, ImageDraw\n",
    "from math import sqrt\n",
    "\n",
    "# Load image:\n",
    "input_image = Image.open(\"crop1.png\")\n",
    "input_pixels = input_image.load()\n",
    "\n",
    "# Sobel kernels\n",
    "kernely = [[-1, 0, 1],\n",
    "           [-2, 0, 2],\n",
    "           [-1, 0, 1]]\n",
    "kernelx = [[-1, -2, -1],\n",
    "           [0, 0, 0],\n",
    "           [1, 2, 1]]\n",
    "\n",
    "# Create output image\n",
    "output_image = Image.new(\"RGB\", input_image.size)\n",
    "draw = ImageDraw.Draw(output_image)\n",
    "\n",
    "# Compute convolution between intensity and kernels\n",
    "for x in range(1, input_image.width - 1):\n",
    "    for y in range(1, input_image.height - 1):\n",
    "        magx, magy = 0, 0\n",
    "        for a in range(3):\n",
    "            for b in range(3):\n",
    "                xn = x + a - 1\n",
    "                yn = y + b - 1\n",
    "                intensity = sum(input_pixels[xn, yn]) / 3\n",
    "                magx += intensity * kernelx[a][b]\n",
    "                magy += intensity * kernely[a][b]\n",
    "\n",
    "        # Draw in black and white the magnitude\n",
    "        color = int(sqrt(magx**2 + magy**2))\n",
    "        draw.point((x, y), (color, color, color))\n",
    "    \n",
    "output_image.save(\"sobel1.png\")"
   ]
  }
 ],
 "metadata": {
  "kernelspec": {
   "display_name": "Python 3",
   "language": "python",
   "name": "python3"
  },
  "language_info": {
   "codemirror_mode": {
    "name": "ipython",
    "version": 3
   },
   "file_extension": ".py",
   "mimetype": "text/x-python",
   "name": "python",
   "nbconvert_exporter": "python",
   "pygments_lexer": "ipython3",
   "version": "3.8.3"
  }
 },
 "nbformat": 4,
 "nbformat_minor": 2
}
